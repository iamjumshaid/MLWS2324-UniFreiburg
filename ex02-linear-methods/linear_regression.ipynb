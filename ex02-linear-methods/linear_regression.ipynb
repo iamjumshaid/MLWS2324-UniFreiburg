{
 "cells": [
  {
   "cell_type": "code",
   "execution_count": 7,
   "metadata": {},
   "outputs": [],
   "source": [
    "import numpy as np\n",
    "import pandas as pd"
   ]
  },
  {
   "cell_type": "code",
   "execution_count": 8,
   "metadata": {},
   "outputs": [],
   "source": [
    "# Initialising the dataset\n",
    "data = {\n",
    "    'Age': [18, 58, 23, 45, 63, 36],\n",
    "    'BMI': [53.13, 49.06, 17.38, 21, 21.66, 28.59],\n",
    "    'Charges': [1163.43, 11381.33, 2775, 7222, 14349, 6548]\n",
    "}"
   ]
  },
  {
   "cell_type": "code",
   "execution_count": 10,
   "metadata": {},
   "outputs": [
    {
     "data": {
      "text/html": [
       "<div>\n",
       "<style scoped>\n",
       "    .dataframe tbody tr th:only-of-type {\n",
       "        vertical-align: middle;\n",
       "    }\n",
       "\n",
       "    .dataframe tbody tr th {\n",
       "        vertical-align: top;\n",
       "    }\n",
       "\n",
       "    .dataframe thead th {\n",
       "        text-align: right;\n",
       "    }\n",
       "</style>\n",
       "<table border=\"1\" class=\"dataframe\">\n",
       "  <thead>\n",
       "    <tr style=\"text-align: right;\">\n",
       "      <th></th>\n",
       "      <th>Age</th>\n",
       "      <th>BMI</th>\n",
       "      <th>Charges</th>\n",
       "    </tr>\n",
       "  </thead>\n",
       "  <tbody>\n",
       "    <tr>\n",
       "      <th>0</th>\n",
       "      <td>18</td>\n",
       "      <td>53.13</td>\n",
       "      <td>1163.43</td>\n",
       "    </tr>\n",
       "    <tr>\n",
       "      <th>1</th>\n",
       "      <td>58</td>\n",
       "      <td>49.06</td>\n",
       "      <td>11381.33</td>\n",
       "    </tr>\n",
       "    <tr>\n",
       "      <th>2</th>\n",
       "      <td>23</td>\n",
       "      <td>17.38</td>\n",
       "      <td>2775.00</td>\n",
       "    </tr>\n",
       "    <tr>\n",
       "      <th>3</th>\n",
       "      <td>45</td>\n",
       "      <td>21.00</td>\n",
       "      <td>7222.00</td>\n",
       "    </tr>\n",
       "    <tr>\n",
       "      <th>4</th>\n",
       "      <td>63</td>\n",
       "      <td>21.66</td>\n",
       "      <td>14349.00</td>\n",
       "    </tr>\n",
       "    <tr>\n",
       "      <th>5</th>\n",
       "      <td>36</td>\n",
       "      <td>28.59</td>\n",
       "      <td>6548.00</td>\n",
       "    </tr>\n",
       "  </tbody>\n",
       "</table>\n",
       "</div>"
      ],
      "text/plain": [
       "   Age    BMI   Charges\n",
       "0   18  53.13   1163.43\n",
       "1   58  49.06  11381.33\n",
       "2   23  17.38   2775.00\n",
       "3   45  21.00   7222.00\n",
       "4   63  21.66  14349.00\n",
       "5   36  28.59   6548.00"
      ]
     },
     "execution_count": 10,
     "metadata": {},
     "output_type": "execute_result"
    }
   ],
   "source": [
    "# Creating dataframe\n",
    "df = pd.DataFrame(data)\n",
    "df"
   ]
  },
  {
   "cell_type": "code",
   "execution_count": 15,
   "metadata": {},
   "outputs": [
    {
     "name": "stdout",
     "output_type": "stream",
     "text": [
      "Features X: [[18.   53.13]\n",
      " [58.   49.06]\n",
      " [23.   17.38]\n",
      " [45.   21.  ]\n",
      " [63.   21.66]\n",
      " [36.   28.59]]\n",
      "\n",
      "Label y [[ 1163.43]\n",
      " [11381.33]\n",
      " [ 2775.  ]\n",
      " [ 7222.  ]\n",
      " [14349.  ]\n",
      " [ 6548.  ]]\n"
     ]
    }
   ],
   "source": [
    "# Splitting features X and label y\n",
    "X = df[['Age', 'BMI']].values\n",
    "y = df[['Charges']].values\n",
    "print(\"Features X:\", X)\n",
    "print(\"\\nLabel y\", y)"
   ]
  },
  {
   "cell_type": "code",
   "execution_count": 21,
   "metadata": {},
   "outputs": [
    {
     "data": {
      "text/plain": [
       "array([[18.  , 58.  , 23.  , 45.  , 63.  , 36.  ],\n",
       "       [53.13, 49.06, 17.38, 21.  , 21.66, 28.59]])"
      ]
     },
     "execution_count": 21,
     "metadata": {},
     "output_type": "execute_result"
    }
   ],
   "source": [
    "# Linear Regression without bias Term is f(X) = w^T * X\n",
    "# Finding parameters vector w = (X^T * X)^-1 * X^Ty\n",
    "\n",
    "X_T = X.transpose()\n",
    "X_T"
   ]
  },
  {
   "cell_type": "code",
   "execution_count": 27,
   "metadata": {},
   "outputs": [
    {
     "name": "stdout",
     "output_type": "stream",
     "text": [
      "Weights w: [[228.72185927]\n",
      " [-56.00693262]]\n"
     ]
    }
   ],
   "source": [
    "w = np.linalg.inv(X_T.dot(X)).dot(X_T.dot(y))\n",
    "print('Weights w:', w)"
   ]
  },
  {
   "cell_type": "code",
   "execution_count": 33,
   "metadata": {},
   "outputs": [
    {
     "name": "stdout",
     "output_type": "stream",
     "text": [
      "Result: [7328.64906056]\n"
     ]
    }
   ],
   "source": [
    "# Predicting the new data with age = 40 and BMI = 32.5\n",
    "x_i = np.array([40, 32.5])\n",
    "y_pred = w.transpose() @ x_i\n",
    "\n",
    "print('Result:', y_pred)"
   ]
  }
 ],
 "metadata": {
  "kernelspec": {
   "display_name": "dlenv",
   "language": "python",
   "name": "python3"
  },
  "language_info": {
   "codemirror_mode": {
    "name": "ipython",
    "version": 3
   },
   "file_extension": ".py",
   "mimetype": "text/x-python",
   "name": "python",
   "nbconvert_exporter": "python",
   "pygments_lexer": "ipython3",
   "version": "3.8.18"
  }
 },
 "nbformat": 4,
 "nbformat_minor": 2
}
